{
 "cells": [
  {
   "cell_type": "code",
   "execution_count": 1,
   "id": "70b7e06d-296f-41d8-8c53-4332fff9d43f",
   "metadata": {},
   "outputs": [],
   "source": [
    "# Importing the libraries\n",
    "import numpy as np\n",
    "import matplotlib.pyplot as plt\n",
    "import pandas as pd\n",
    "from sklearn.model_selection import train_test_split\n",
    "from sklearn.preprocessing import StandardScaler\n",
    "from sklearn.decomposition import PCA\n"
   ]
  },
  {
   "cell_type": "code",
   "execution_count": 2,
   "id": "8754cf1c-5745-447f-b4cd-1342d0f93e58",
   "metadata": {},
   "outputs": [],
   "source": [
    "# Importing the dataset\n",
    "dataset = pd.read_csv('Wine.csv')\n",
    "X = dataset.iloc[:, 0:13].values\n",
    "y = dataset.iloc[:, 13].values"
   ]
  },
  {
   "cell_type": "code",
   "execution_count": 3,
   "id": "2ac010b4-5651-4664-ad21-bf5da5fe1012",
   "metadata": {},
   "outputs": [],
   "source": [
    "# Applying LDA\n",
    "def apply_LDA(indep_X):\n",
    "    from sklearn.discriminant_analysis import LinearDiscriminantAnalysis as LDA\n",
    "    lda = LDA(n_components = 2)\n",
    "    X_transformed = lda.fit_transform(indep_X,y)\n",
    "    explained_variance=lda.explained_variance_ratio_\n",
    "    return X_transformed, explained_variance\n",
    "\n",
    "\n",
    "# Function to split the dataset and apply scaling\n",
    "def split_scale(indep_X, dep_Y):\n",
    "    X_train, X_test, y_train, y_test = train_test_split(indep_X, dep_Y, test_size=0.25, random_state=0)\n",
    "    sc = StandardScaler()\n",
    "    X_train = sc.fit_transform(X_train)\n",
    "    X_test = sc.transform(X_test)\n",
    "    return X_train, X_test, y_train, y_test\n",
    "\n",
    "# Function to make predictions and generate the confusion matrix\n",
    "def cm_prediction(classifier, X_test, y_test):\n",
    "    y_pred = classifier.predict(X_test)\n",
    "    from sklearn.metrics import confusion_matrix, accuracy_score, classification_report\n",
    "    cm = confusion_matrix(y_test, y_pred)\n",
    "    accuracy = accuracy_score(y_test, y_pred)\n",
    "    report = classification_report(y_test, y_pred)\n",
    "    return classifier, accuracy, report, X_test, y_test, cm\n",
    "\n",
    "# Function to perform logistic regression\n",
    "def logistic(X_train, y_train, X_test, y_test):\n",
    "    from sklearn.linear_model import LogisticRegression\n",
    "    classifier = LogisticRegression(random_state=0)\n",
    "    classifier.fit(X_train, y_train)\n",
    "    return cm_prediction(classifier, X_test, y_test)\n",
    "\n",
    "# Function to perform linear SVM\n",
    "def svm_linear(X_train, y_train, X_test, y_test):\n",
    "    from sklearn.svm import SVC\n",
    "    classifier = SVC(kernel='linear', random_state=0)\n",
    "    classifier.fit(X_train, y_train)\n",
    "    return cm_prediction(classifier, X_test, y_test)\n",
    "\n",
    "# Function to perform non-linear SVM\n",
    "def svm_nl(X_train, y_train, X_test, y_test):\n",
    "    from sklearn.svm import SVC\n",
    "    classifier = SVC(kernel='rbf', random_state=0)\n",
    "    classifier.fit(X_train, y_train)\n",
    "    return cm_prediction(classifier, X_test, y_test)\n",
    "\n",
    "# Function to perform Naive Bayes\n",
    "def naive(X_train, y_train, X_test, y_test):\n",
    "    from sklearn.naive_bayes import GaussianNB\n",
    "    classifier = GaussianNB()\n",
    "    classifier.fit(X_train, y_train)\n",
    "    return cm_prediction(classifier, X_test, y_test)\n",
    "\n",
    "# Function to perform K-NN\n",
    "def knn(X_train, y_train, X_test, y_test):\n",
    "    from sklearn.neighbors import KNeighborsClassifier\n",
    "    classifier = KNeighborsClassifier(n_neighbors=5, metric='minkowski', p=2)\n",
    "    classifier.fit(X_train, y_train)\n",
    "    return cm_prediction(classifier, X_test, y_test)\n",
    "\n",
    "# Function to perform Decision Tree\n",
    "def decision_tree(X_train, y_train, X_test, y_test):\n",
    "    from sklearn.tree import DecisionTreeClassifier\n",
    "    classifier = DecisionTreeClassifier(criterion='entropy', random_state=0)\n",
    "    classifier.fit(X_train, y_train)\n",
    "    return cm_prediction(classifier, X_test, y_test)\n",
    "\n",
    "# Function to perform Random Forest\n",
    "def random_forest(X_train, y_train, X_test, y_test):\n",
    "    from sklearn.ensemble import RandomForestClassifier\n",
    "    classifier = RandomForestClassifier(n_estimators=10, criterion='entropy', random_state=0)\n",
    "    classifier.fit(X_train, y_train)\n",
    "    return cm_prediction(classifier, X_test, y_test)\n",
    "\n",
    "    "
   ]
  },
  {
   "cell_type": "code",
   "execution_count": 4,
   "id": "a5d5fbc7-d06c-4f34-9cc6-4a30cdef3a61",
   "metadata": {},
   "outputs": [],
   "source": [
    "# Function to create a DataFrame with accuracy results\n",
    "def LDA_classification(acc_log, acc_svml, acc_svmnl, acc_knn, acc_nav, acc_des, acc_rf):\n",
    "    dataframe = pd.DataFrame(index=['LDA'], columns=['Logistic', 'SVMl', 'SVMnl', 'KNN', 'Navie', 'Decision', 'Random'])\n",
    "    dataframe['Logistic'] = acc_log\n",
    "    dataframe['SVMl'] = acc_svml\n",
    "    dataframe['SVMnl'] = acc_svmnl\n",
    "    dataframe['KNN'] = acc_knn\n",
    "    dataframe['Navie'] = acc_nav\n",
    "    dataframe['Decision'] = acc_des\n",
    "    dataframe['Random'] = acc_rf\n",
    "    return dataframe"
   ]
  },
  {
   "cell_type": "code",
   "execution_count": 5,
   "id": "a48f94c6-576a-4356-9558-c6ed45730562",
   "metadata": {},
   "outputs": [],
   "source": [
    "# Applying PCA\n",
    "X_lda, explained_variance = apply_LDA(X)\n",
    "\n",
    "# Splitting and scaling the dataset\n",
    "X_train, X_test, y_train, y_test = split_scale(X_lda, y)\n"
   ]
  },
  {
   "cell_type": "code",
   "execution_count": 6,
   "id": "95497692-93b7-4db5-96ef-0de03cd39b01",
   "metadata": {},
   "outputs": [],
   "source": [
    "# Lists to store accuracies\n",
    "acc_log = []\n",
    "acc_svml = []\n",
    "acc_svmnl = []\n",
    "acc_knn = []\n",
    "acc_nav = []\n",
    "acc_des = []\n",
    "acc_rf = []\n"
   ]
  },
  {
   "cell_type": "code",
   "execution_count": 7,
   "id": "8a491582-ec78-45e6-b259-5a2da8d0e57d",
   "metadata": {},
   "outputs": [],
   "source": [
    "# Logistic Regression\n",
    "classifier, accuracy, report, X_test, y_test, cm = logistic(X_train, y_train, X_test, y_test)\n",
    "acc_log.append(accuracy)\n",
    "\n",
    "# Linear SVM\n",
    "classifier, accuracy, report, X_test, y_test, cm = svm_linear(X_train, y_train, X_test, y_test)\n",
    "acc_svml.append(accuracy)\n",
    "\n",
    "# Non-linear SVM\n",
    "classifier, accuracy, report, X_test, y_test, cm = svm_nl(X_train, y_train, X_test, y_test)\n",
    "acc_svmnl.append(accuracy)\n",
    "\n",
    "# K-NN\n",
    "classifier, accuracy, report, X_test, y_test, cm = knn(X_train, y_train, X_test, y_test)\n",
    "acc_knn.append(accuracy)\n",
    "\n",
    "# Naive Bayes\n",
    "classifier, accuracy, report, X_test, y_test, cm = naive(X_train, y_train, X_test, y_test)\n",
    "acc_nav.append(accuracy)\n",
    "\n",
    "# Decision Tree\n",
    "classifier, accuracy, report, X_test, y_test, cm = decision_tree(X_train, y_train, X_test, y_test)\n",
    "acc_des.append(accuracy)\n",
    "\n",
    "# Random Forest\n",
    "classifier, accuracy, report, X_test, y_test, cm = random_forest(X_train, y_train, X_test, y_test)\n",
    "acc_rf.append(accuracy)"
   ]
  },
  {
   "cell_type": "code",
   "execution_count": 8,
   "id": "eab47ce4-e068-4188-8541-7bb7d372b8f9",
   "metadata": {},
   "outputs": [
    {
     "name": "stdout",
     "output_type": "stream",
     "text": [
      "     Logistic  SVMl  SVMnl  KNN  Navie  Decision  Random\n",
      "LDA       1.0   1.0    1.0  1.0    1.0       1.0     1.0\n"
     ]
    }
   ],
   "source": [
    "# Creating a DataFrame with the results\n",
    "results = LDA_classification(acc_log, acc_svml, acc_svmnl, acc_knn, acc_nav, acc_des, acc_rf)\n",
    "print(results)"
   ]
  },
  {
   "cell_type": "code",
   "execution_count": null,
   "id": "bd8eaa6c-18bb-4661-8918-4e1b99989971",
   "metadata": {},
   "outputs": [],
   "source": []
  }
 ],
 "metadata": {
  "kernelspec": {
   "display_name": "Python 3 (ipykernel)",
   "language": "python",
   "name": "python3"
  },
  "language_info": {
   "codemirror_mode": {
    "name": "ipython",
    "version": 3
   },
   "file_extension": ".py",
   "mimetype": "text/x-python",
   "name": "python",
   "nbconvert_exporter": "python",
   "pygments_lexer": "ipython3",
   "version": "3.12.4"
  }
 },
 "nbformat": 4,
 "nbformat_minor": 5
}
